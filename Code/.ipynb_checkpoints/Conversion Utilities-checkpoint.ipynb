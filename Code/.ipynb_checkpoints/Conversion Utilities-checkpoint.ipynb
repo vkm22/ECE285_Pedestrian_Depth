{
 "cells": [
  {
   "cell_type": "markdown",
   "metadata": {},
   "source": [
    "## Simple Python notebook to convert Videos to Image Frames and vice versa"
   ]
  },
  {
   "cell_type": "markdown",
   "metadata": {},
   "source": [
    "### Video -> Image Frames\n",
    "Specify the input video and output image directory below, as well as which set (left/right_view) to use"
   ]
  },
  {
   "cell_type": "code",
   "execution_count": null,
   "metadata": {},
   "outputs": [],
   "source": [
    "image_set = 'left'\n",
    "VID_DIR = '../videos/carf_frontL.mp4'\n",
    "IMG_DIR = '../input_images/%s_view'%image_set"
   ]
  },
  {
   "cell_type": "code",
   "execution_count": null,
   "metadata": {},
   "outputs": [],
   "source": [
    "import cv2\n",
    "vidcap = cv2.VideoCapture(VID_DIR)\n",
    "success,image = vidcap.read()\n",
    "vidcap.set(cv2.CAP_PROP_FPS, 10)\n",
    "print (vidcap.get(cv2.CAP_PROP_FPS))\n",
    "count = 0\n",
    "success = True\n",
    "while success:\n",
    "    success,image = vidcap.read()\n",
    "    cv2.imwrite(\"../images/left_view/frame%d.jpg\" % count, image)     # save frame as JPEG file\n",
    "    count += 1"
   ]
  },
  {
   "cell_type": "code",
   "execution_count": 6,
   "metadata": {},
   "outputs": [
    {
     "name": "stdout",
     "output_type": "stream",
     "text": [
      "[59, 88, 147, 25, 0, 196, 140, 22, 7, 191, 9, 132, 50, 225, 81, 135, 57, 222, 86, 149, 198, 217, 62, 100, 19, 210, 65, 107, 17, 175, 109, 219, 10, 172, 208, 163, 164, 118, 74, 116, 201, 73, 111, 206, 97, 124, 46, 189, 158, 90, 123, 41, 180, 151, 33, 99, 48, 187, 156, 34, 218, 11, 173, 16, 174, 108, 18, 211, 64, 106, 216, 63, 101, 134, 56, 87, 223, 148, 199, 8, 133, 51, 80, 224, 141, 23, 6, 190, 58, 89, 146, 24, 1, 197, 98, 49, 186, 157, 35, 181, 150, 32, 91, 122, 40, 96, 125, 47, 188, 159, 72, 110, 207, 75, 117, 200, 165, 119, 209, 162, 182, 31, 153, 128, 185, 36, 154, 95, 231, 44, 126, 38, 92, 43, 121, 168, 114, 76, 203, 113, 71, 204, 161, 166, 78, 177, 15, 69, 170, 12, 215, 102, 60, 179, 212, 105, 67, 52, 130, 227, 83, 55, 137, 220, 84, 29, 139, 27, 145, 194, 2, 20, 142, 193, 5, 229, 167, 79, 160, 112, 70, 205, 169, 115, 77, 202, 93, 42, 120, 230, 94, 45, 127, 39, 129, 184, 37, 155, 183, 30, 152, 21, 143, 192, 4, 228, 138, 26, 144, 195, 3, 54, 136, 85, 221, 28, 53, 131, 82, 226, 178, 213, 104, 66, 214, 103, 61, 171, 13, 176, 14, 68]\n"
     ]
    }
   ],
   "source": [
    "import os\n",
    "import cv2\n",
    "import matplotlib.pyplot as plt\n",
    "\n",
    "images = []\n",
    "names = []\n",
    "IMAGE_DIR = \"../RESULTS_mask_rcnn/right_view/\"\n",
    "for filename in os.listdir(IMAGE_DIR):\n",
    "    try:\n",
    "        img = cv2.imread(os.path.join(IMAGE_DIR, filename))\n",
    "        if img is not None:\n",
    "            images.append(img)\n",
    "            names.append(int(filename[10:].split('.')[0]))\n",
    "    except:\n",
    "        print('Cant import ' + filename)  \n",
    "    \n",
    "print (names)\n",
    "zipped = sorted(zip(names, images))"
   ]
  },
  {
   "cell_type": "code",
   "execution_count": null,
   "metadata": {},
   "outputs": [],
   "source": []
  },
  {
   "cell_type": "code",
   "execution_count": 5,
   "metadata": {},
   "outputs": [
    {
     "name": "stdout",
     "output_type": "stream",
     "text": [
      "(1, 2, 3, 4, 5, 6, 7, 8, 9, 10, 11, 12, 13, 14, 15, 16, 17, 18, 19, 20, 21, 22, 23, 24, 25, 26, 27, 28, 29, 30, 31, 32, 33, 34, 35, 36, 37, 38, 39, 40, 41, 42, 43, 44, 45, 46, 47, 48, 49, 50, 51, 52, 53, 54, 55, 56, 57, 58, 59, 60, 61, 62, 63, 64, 65, 66, 67, 68, 69, 70, 71, 72, 73, 74, 75, 76, 77, 78, 79, 80, 81, 82, 83, 84, 85, 86, 87, 88, 89, 90, 91, 92, 93, 94, 95, 96, 97, 98, 99, 100, 101, 102, 103, 104, 105, 106, 107, 108, 109, 110, 111, 112, 113, 114, 115, 116, 117, 118, 119, 120, 121, 122, 123, 124, 125, 126, 127, 128, 129, 130, 131, 132, 133, 134, 135, 136, 137, 138, 139, 140, 141, 142, 143, 144, 145, 146, 147, 148, 149, 150, 151, 152, 153, 154, 155, 156, 157, 158, 159, 160, 161, 162, 163, 164, 165, 166, 167, 168, 169, 170, 171, 172, 173, 174, 175, 176, 177, 178, 179, 180, 181, 182, 183, 184, 185, 186, 187, 188, 189, 190, 191, 192, 193, 194, 195, 196, 197, 198, 199, 200, 201, 202, 203, 204, 205, 206, 207, 208, 209, 210, 211, 212, 213, 214, 215, 216, 217, 218, 219, 220, 221, 222, 223, 224, 225, 226, 227, 228, 229, 230, 231)\n",
      "803 1407\n"
     ]
    }
   ],
   "source": [
    "names, images = zip(*zipped)\n",
    "print (names)\n",
    "height,width,layers=images[0].shape\n",
    "print (height, width)\n",
    "fourcc = cv2.VideoWriter_fourcc(*'XVID')\n",
    "video=cv2.VideoWriter('./RESULTS_right_view.mp4',fourcc,29.97,(width,height))\n",
    "\n",
    "for i in range(len(images)):\n",
    "    video.write(images[i])\n",
    "    \n",
    "cv2.destroyAllWindows()\n",
    "video.release()"
   ]
  },
  {
   "cell_type": "code",
   "execution_count": null,
   "metadata": {},
   "outputs": [],
   "source": []
  }
 ],
 "metadata": {
  "kernelspec": {
   "display_name": "Python 3",
   "language": "python",
   "name": "python3"
  },
  "language_info": {
   "codemirror_mode": {
    "name": "ipython",
    "version": 3
   },
   "file_extension": ".py",
   "mimetype": "text/x-python",
   "name": "python",
   "nbconvert_exporter": "python",
   "pygments_lexer": "ipython3",
   "version": "3.6.4"
  }
 },
 "nbformat": 4,
 "nbformat_minor": 2
}
