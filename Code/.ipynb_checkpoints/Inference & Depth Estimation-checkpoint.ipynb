{
 "cells": [
  {
   "cell_type": "code",
   "execution_count": null,
   "metadata": {},
   "outputs": [],
   "source": [
    "import os\n",
    "import sys\n",
    "import random\n",
    "import math\n",
    "import numpy as np\n",
    "import skimage.io\n",
    "from argparse import Namespace\n",
    "import tensorflow as tf\n",
    "import pickle \n",
    "import keras\n",
    "import itertools\n",
    "import cv2\n",
    "import matplotlib\n",
    "import pylab\n",
    "import matplotlib.pyplot as plt\n",
    "plt.ioff()\n",
    "\n",
    "from skimage.measure import find_contours\n",
    "from matplotlib import patches,  lines\n",
    "from matplotlib.patches import Polygon"
   ]
  },
  {
   "cell_type": "markdown",
   "metadata": {},
   "source": [
    "# I. Running Inference with Faster-RCNN"
   ]
  },
  {
   "cell_type": "code",
   "execution_count": null,
   "metadata": {
    "scrolled": true
   },
   "outputs": [],
   "source": [
    "ROOT_DIR = os.path.abspath(\"../Pedestrian-Detection-modified/\")\n",
    "\n",
    "# Set up \n",
    "os.system('protoc object_detection/protos/*.proto --python_out=.')\n",
    "os.system('export PYTHONPATH=$PYTHONPATH:`pwd`:`pwd`/slim')\n",
    "\n",
    "# Import Faster RCNN directory\n",
    "sys.path.append(ROOT_DIR)  # To find local version of the library\n",
    "from inference import *\n",
    "\n",
    "print (\"Checking Tensorflow version, making sure we have a GPU\")\n",
    "print (tf.VERSION)\n",
    "from tensorflow.python.client import device_lib\n",
    "print (device_lib.list_local_devices())"
   ]
  },
  {
   "cell_type": "code",
   "execution_count": null,
   "metadata": {},
   "outputs": [],
   "source": [
    "# Choose which set of input images to perform inference on \n",
    "# OPTIONS -> LEFT or RIGHT\n",
    "img_set = 'left'\n",
    "\n",
    "IMAGE_DIR = '../input_images/%s_view'%img_set\n",
    "SAVE_DIR = '../RESULTS_faster_rcnn/%s_view/'%img_set\n",
    "\n",
    "print (\"Performing inference on images from:\", IMAGE_DIR, \" Saving output images to: \", SAVE_DIR)\n",
    "\n",
    "args = Namespace(delay=0, frozen_graph=ROOT_DIR+'/output/frozen_inference_graph.pb', input_dir=IMAGE_DIR,\n",
    "                 label_map=ROOT_DIR+'/annotations/label_map.pbtxt', n_jobs=1, num_output_classes=1, output_dir=SAVE_DIR)    \n",
    "    \n",
    "# Initializing queues and events\n",
    "stitch_queue = Queue()\n",
    "feed_queue = Queue()\n",
    "completed = Event()\n",
    "\n",
    "gpu_workers = []\n",
    "\n",
    "# Creating processes for GPU inference, loading data and stitching data\n",
    "for gpu_id in range(args.n_jobs):\n",
    "    gpu_workers.append(Process(target=infer, args=(args, feed_queue, stitch_queue, completed, gpu_id)))\n",
    "stitch_cpu = Process(target=stitch, args=(stitch_queue, completed, args))\n",
    "feed_cpu = Process(target=feed, args=(feed_queue, args))\n",
    "\n",
    "# Optional delay to give imread a head start\n",
    "feed_cpu.start()\n",
    "time.sleep(args.delay)\n",
    "\n",
    "stitch_cpu.start()\n",
    "for gpu in gpu_workers:\n",
    "    gpu.start()\n",
    "\n",
    "feed_cpu.join()\n",
    "stitch_cpu.join()\n",
    "\n",
    "for gpu in gpu_workers:\n",
    "    gpu.join()"
   ]
  },
  {
   "cell_type": "markdown",
   "metadata": {},
   "source": [
    "# II. Running Inference with Mask-RCNN\n",
    "\n",
    "The following code is an adaptation of the demo code that comes with the Mask-RCNN directory, with some modifications to work on our input data, and a modification on the visualization script to save output images with overlaid masks. "
   ]
  },
  {
   "cell_type": "code",
   "execution_count": null,
   "metadata": {},
   "outputs": [],
   "source": [
    "# Root directory of the project\n",
    "ROOT_DIR = os.path.abspath(\"../Mask_RCNN/\")\n",
    "\n",
    "# Import Mask RCNN\n",
    "sys.path.append(ROOT_DIR)  # To find local version of the library\n",
    "from mrcnn import utils\n",
    "import mrcnn.model as modellib\n",
    "from mrcnn import visualize\n",
    "\n",
    "# Import COCO config\n",
    "sys.path.append(os.path.join(ROOT_DIR, \"samples/coco/\"))  # To find local version\n",
    "import coco\n",
    "\n",
    "# Directory to save logs and trained model\n",
    "MODEL_DIR = os.path.join(ROOT_DIR, \"logs\")\n",
    "\n",
    "# Local path to trained weights file\n",
    "COCO_MODEL_PATH = os.path.join(ROOT_DIR, \"./mask_rcnn_coco.h5\")\n",
    "\n",
    "# Download COCO trained weights from Releases if needed\n",
    "if not os.path.exists(COCO_MODEL_PATH):\n",
    "    utils.download_trained_weights(COCO_MODEL_PATH)\n",
    "\n",
    "# Device to load the neural network on.\n",
    "DEVICE = \"/gpu:0\"  # /cpu:0 or /gpu:0\n",
    "\n",
    "# Inspect the model in training or inference modes\n",
    "# values: 'inference' or 'training'\n",
    "TEST_MODE = \"inference\""
   ]
  },
  {
   "cell_type": "markdown",
   "metadata": {},
   "source": [
    "### Configure/Create Inference Model and Load Trained Weights\n",
    "\n",
    "\n",
    "We'll be using a model trained on the MS-COCO dataset. The configurations of this model are in the ```CocoConfig``` class in ```coco.py```.\n",
    "\n",
    "For inferencing, modify the configurations a bit to fit the task. To do so, sub-class the ```CocoConfig``` class and override the attributes you need to change."
   ]
  },
  {
   "cell_type": "code",
   "execution_count": null,
   "metadata": {},
   "outputs": [],
   "source": [
    "class InferenceConfig(coco.CocoConfig):\n",
    "    # Set batch size to 1 since we'll be running inference on\n",
    "    # one image at a time. Batch size = GPU_COUNT * IMAGES_PER_GPU\n",
    "    GPU_COUNT = 1\n",
    "    IMAGES_PER_GPU = 1\n",
    "    IMAGE_MIN_DIM = 720\n",
    "    IMAGE_MAX_DIM = 1280\n",
    "\n",
    "config = InferenceConfig()\n",
    "config.display()\n",
    "\n",
    "with tf.device(DEVICE):\n",
    "    # Create model object in inference mode.\n",
    "    model = modellib.MaskRCNN(mode=\"inference\", model_dir=MODEL_DIR, config=config)\n",
    "\n",
    "    # Load weights trained on MS-COCO\n",
    "    model.load_weights(COCO_MODEL_PATH, by_name=True)"
   ]
  },
  {
   "cell_type": "markdown",
   "metadata": {},
   "source": [
    "### Class Names\n",
    "\n",
    "The model classifies objects and returns class IDs, which are integer value that identify each class. Some datasets assign integer values to their classes and some don't. For example, in the MS-COCO dataset, the 'person' class is 1 and 'teddy bear' is 88. The IDs are often sequential, but not always. The COCO dataset, for example, has classes associated with class IDs 70 and 72, but not 71.\n",
    "\n",
    "To improve consistency, and to support training on data from multiple sources at the same time, our ```Dataset``` class assigns it's own sequential integer IDs to each class. For example, if you load the COCO dataset using our ```Dataset``` class, the 'person' class would get class ID = 1 (just like COCO) and the 'teddy bear' class is 78 (different from COCO). Keep that in mind when mapping class IDs to class names.\n",
    "\n",
    "We include the hard-coded classnames corresponding to their class IDs below so you don't have to download the Coco dataset to run inference. "
   ]
  },
  {
   "cell_type": "code",
   "execution_count": null,
   "metadata": {},
   "outputs": [],
   "source": [
    "# COCO Class names\n",
    "# Index of the class in the list is its ID. For example, to get ID of\n",
    "# the teddy bear class, use: class_names.index('teddy bear')\n",
    "class_names = ['BG', 'person', 'bicycle', 'car', 'motorcycle', 'airplane',\n",
    "               'bus', 'train', 'truck', 'boat', 'traffic light',\n",
    "               'fire hydrant', 'stop sign', 'parking meter', 'bench', 'bird',\n",
    "               'cat', 'dog', 'horse', 'sheep', 'cow', 'elephant', 'bear',\n",
    "               'zebra', 'giraffe', 'backpack', 'umbrella', 'handbag', 'tie',\n",
    "               'suitcase', 'frisbee', 'skis', 'snowboard', 'sports ball',\n",
    "               'kite', 'baseball bat', 'baseball glove', 'skateboard',\n",
    "               'surfboard', 'tennis racket', 'bottle', 'wine glass', 'cup',\n",
    "               'fork', 'knife', 'spoon', 'bowl', 'banana', 'apple',\n",
    "               'sandwich', 'orange', 'broccoli', 'carrot', 'hot dog', 'pizza',\n",
    "               'donut', 'cake', 'chair', 'couch', 'potted plant', 'bed',\n",
    "               'dining table', 'toilet', 'tv', 'laptop', 'mouse', 'remote',\n",
    "               'keyboard', 'cell phone', 'microwave', 'oven', 'toaster',\n",
    "               'sink', 'refrigerator', 'book', 'clock', 'vase', 'scissors',\n",
    "               'teddy bear', 'hair drier', 'toothbrush']"
   ]
  },
  {
   "cell_type": "markdown",
   "metadata": {},
   "source": [
    "### Modified Visualization Code To Save Images"
   ]
  },
  {
   "cell_type": "code",
   "execution_count": null,
   "metadata": {},
   "outputs": [],
   "source": [
    "def display_imgs(filename, image, boxes, masks, class_ids, class_names,\n",
    "                 scores=None, title=\"\",\n",
    "                 figsize=(14, 14), ax=None,\n",
    "                 show_mask=True, show_bbox=True,\n",
    "                 colors=None, captions=None, show=False):\n",
    "    \"\"\"\n",
    "    boxes: [num_instance, (y1, x1, y2, x2, class_id)] in image coordinates.\n",
    "    masks: [height, width, num_instances]\n",
    "    class_ids: [num_instances]\n",
    "    class_names: list of class names of the dataset\n",
    "    scores: (optional) confidence scores for each box\n",
    "    title: (optional) Figure title\n",
    "    show_mask, show_bbox: To show masks and bounding boxes or not\n",
    "    figsize: (optional) the size of the image\n",
    "    colors: (optional) An array or colors to use with each object\n",
    "    captions: (optional) A list of strings to use as captions for each object\n",
    "    \"\"\"\n",
    "    # Number of instances\n",
    "    # Turn interactive plotting off\n",
    "    N = boxes.shape[0]\n",
    "    if not N:\n",
    "        print(\"\\n*** No instances to display *** \\n\")\n",
    "    else:\n",
    "        assert boxes.shape[0] == masks.shape[-1] == class_ids.shape[0]\n",
    "\n",
    "    # If no axis is passed, create one and automatically call show()\n",
    "    auto_show = False\n",
    "    if not ax:\n",
    "        fig, ax = plt.subplots(1, figsize=figsize)\n",
    "\n",
    "    plt.gca().set_axis_off()\n",
    "    plt.subplots_adjust(top = 1, bottom = 0, right = 1, left = 0, \n",
    "            hspace = 0, wspace = 0)\n",
    "    plt.margins(0,0)\n",
    "    plt.gca().xaxis.set_major_locator(plt.NullLocator())\n",
    "    plt.gca().yaxis.set_major_locator(plt.NullLocator())\n",
    "    # Generate random colors\n",
    "    colors = colors or visualize.random_colors(N)\n",
    "\n",
    "    # Show area outside image boundaries.\n",
    "    height, width = image.shape[:2]\n",
    "    ax.set_ylim(height + 10, -10)\n",
    "    ax.set_xlim(-10, width + 10)\n",
    "    ax.axis('off')\n",
    "    ax.set_title(title)\n",
    "\n",
    "    masked_image = image.astype(np.uint32).copy()\n",
    "    for i in range(N):\n",
    "        if (class_ids[i] == 1):\n",
    "            color = colors[i]\n",
    "\n",
    "            # Bounding box\n",
    "            if not np.any(boxes[i]):\n",
    "                # Skip this instance. Has no bbox. Likely lost in image cropping.\n",
    "                continue\n",
    "            y1, x1, y2, x2 = boxes[i]\n",
    "            if show_bbox:\n",
    "                p = patches.Rectangle((x1, y1), x2 - x1, y2 - y1, linewidth=2,\n",
    "                                    alpha=0.7, linestyle=\"dashed\",\n",
    "                                    edgecolor=color, facecolor='none')\n",
    "                ax.add_patch(p)\n",
    "\n",
    "            # Label\n",
    "            if not captions:\n",
    "                class_id = class_ids[i]\n",
    "                score = scores[i] if scores is not None else None\n",
    "                label = class_names[class_id]\n",
    "                x = random.randint(x1, (x1 + x2) // 2)\n",
    "                caption = \"{} {:.3f}\".format(label, score) if score else label\n",
    "            else:\n",
    "                caption = captions[i]\n",
    "            ax.text(x1, y1 + 8, caption,\n",
    "                    color='w', size=11, backgroundcolor=\"none\")\n",
    "\n",
    "            # Mask\n",
    "            mask = masks[:, :, i]\n",
    "            if show_mask:\n",
    "                masked_image = visualize.apply_mask(masked_image, mask, color)\n",
    "\n",
    "            # Mask Polygon\n",
    "            # Pad to ensure proper polygons for masks that touch image edges.\n",
    "            padded_mask = np.zeros(\n",
    "                (mask.shape[0] + 2, mask.shape[1] + 2), dtype=np.uint8)\n",
    "            padded_mask[1:-1, 1:-1] = mask\n",
    "            contours = find_contours(padded_mask, 0.5)\n",
    "            for verts in contours:\n",
    "                # Subtract the padding and flip (y, x) to (x, y)\n",
    "                verts = np.fliplr(verts) - 1\n",
    "                p = Polygon(verts, facecolor=\"none\", edgecolor=color)\n",
    "                ax.add_patch(p)\n",
    "    ax.imshow(masked_image.astype(np.uint8))\n",
    "    if show: plt.show()\n",
    "    fig.savefig(filename, bbox_inches = 'tight', pad_inches = 0)\n",
    "    plt.close(\"all\")"
   ]
  },
  {
   "cell_type": "markdown",
   "metadata": {},
   "source": [
    "### Load both sets of images (left_view, right_view) to perform inference"
   ]
  },
  {
   "cell_type": "code",
   "execution_count": null,
   "metadata": {
    "scrolled": false
   },
   "outputs": [],
   "source": [
    "# Input and output directories for both sets of images\n",
    "pickles = ['left_view.pkl','right_view.pkl']\n",
    "IMAGE_DIRS = ['../input_images/left_view/', '../input_images/right_view/']\n",
    "SAVE_DIRS = ['../RESULTS_mask_rcnn/left_view/', '../RESULTS_mask_rcnn/right_view/']\n",
    "DEPTH_SAVE_DIRS = ['../RESULTS_mask_rcnn_depth/left_view/', '../RESULTS_mask_rcnn_depth/right_view/']\n",
    "\n",
    "images = [[],[]] \n",
    "names = [[],[]]\n",
    "for d in range(len(IMAGE_DIRS)):\n",
    "    images[d] = []\n",
    "    names[d] = []\n",
    "    print (SAVE_DIRS[d]+pickles[d])\n",
    "    if os.path.isfile(SAVE_DIRS[d]+pickles[d]):\n",
    "        with open(SAVE_DIRS[d]+pickles[d], 'rb') as f:\n",
    "            print (\"Loading from pickle\")\n",
    "            lists = pickle.load(f)\n",
    "            images[d] = lists[0]\n",
    "            names[d] = lists[1]\n",
    "    else:\n",
    "        for filename in os.listdir(IMAGE_DIRS[d]):\n",
    "            try:\n",
    "                print (\"Reading filename \", filename)\n",
    "                img = skimage.io.imread(os.path.join(IMAGE_DIRS[d], filename))\n",
    "                if img is not None:\n",
    "                    images[d].append(img)\n",
    "                    names[d].append(filename)\n",
    "            except:\n",
    "                print('Cant import ' + filename)    \n",
    "        with open(SAVE_DIRS[d]+pickles[d], 'wb') as f:\n",
    "            pickle.dump([images[d], names[d]], f)"
   ]
  },
  {
   "cell_type": "markdown",
   "metadata": {},
   "source": [
    "### Perform Inference with Mask-RCNN and visualize/save results"
   ]
  },
  {
   "cell_type": "markdown",
   "metadata": {},
   "source": [
    "We perform inference on the left/right view input images from the loaded Mask-RCNN model, and visualize one of the images here. We run the display_save_imgs function (written above) to save the images with pedestrian bounding boxes and drawn masks in the specified SAVE_DIRS, if they don't already exist in that folder."
   ]
  },
  {
   "cell_type": "code",
   "execution_count": null,
   "metadata": {},
   "outputs": [],
   "source": [
    "results = [0,0]\n",
    "for d in range(len(IMAGE_DIRS)):\n",
    "    imgs = images[d] \n",
    "    nam = names[d]\n",
    "    for i in range(len(imgs)):\n",
    "        # Perform inference \n",
    "        with tf.device(DEVICE): results[d] = model.detect([imgs[i]]);\n",
    "        r = results[d][0]\n",
    "        if (i == 1):\n",
    "            display_imgs(SAVE_DIRS[d]+\"/proc_\"+nam[i], imgs[i], r['rois'], r['masks'], r['class_ids'], class_names, r['scores'], show=True)\n",
    "        else:  \n",
    "            display_imgs(SAVE_DIRS[d]+\"/proc_\"+nam[i], imgs[i], r['rois'], r['masks'], r['class_ids'], class_names, r['scores'])\n",
    "        print (\"Ran inference on: \", nam[i])"
   ]
  },
  {
   "cell_type": "markdown",
   "metadata": {},
   "source": [
    "# III. Using Mask-RCNN bounding boxes to estimate pedestrian depth\n",
    "In the following section, we compute depth maps by combining the two sets of input images to create a stereo image on which we use OpenCV. We then use the computed bounding boxes from the previous section, combine the left/right view bounding boxes, and estimate depth by looking at the computed depth map. We then super-impose this depth as a caption on the images, along with the bounding boxes and masks."
   ]
  },
  {
   "cell_type": "code",
   "execution_count": null,
   "metadata": {},
   "outputs": [],
   "source": []
  }
 ],
 "metadata": {
  "kernelspec": {
   "display_name": "Python 3",
   "language": "python",
   "name": "python3"
  },
  "language_info": {
   "codemirror_mode": {
    "name": "ipython",
    "version": 3
   },
   "file_extension": ".py",
   "mimetype": "text/x-python",
   "name": "python",
   "nbconvert_exporter": "python",
   "pygments_lexer": "ipython3",
   "version": "3.6.4"
  }
 },
 "nbformat": 4,
 "nbformat_minor": 2
}
