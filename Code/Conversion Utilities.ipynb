{
 "cells": [
  {
   "cell_type": "markdown",
   "metadata": {},
   "source": [
    "## Simple Python notebook to convert Videos to Image Frames and vice versa"
   ]
  },
  {
   "cell_type": "code",
   "execution_count": null,
   "metadata": {},
   "outputs": [],
   "source": [
    "import os\n",
    "import cv2\n",
    "import matplotlib.pyplot as plt"
   ]
  },
  {
   "cell_type": "markdown",
   "metadata": {},
   "source": [
    "### Video -> Image Frames\n",
    "Specify the input video and output image directory below, as well as which set (left/right_view) to use"
   ]
  },
  {
   "cell_type": "code",
   "execution_count": null,
   "metadata": {},
   "outputs": [],
   "source": [
    "image_set = 'left'\n",
    "VID_DIR = '../videos/carf_frontL.mp4'\n",
    "IMG_DIR = '../input_images/%s_view/'%image_set"
   ]
  },
  {
   "cell_type": "code",
   "execution_count": null,
   "metadata": {},
   "outputs": [],
   "source": [
    "vidcap = cv2.VideoCapture(VID_DIR)\n",
    "success,image = vidcap.read()\n",
    "count = 0\n",
    "success = True\n",
    "while success:\n",
    "    success, image = vidcap.read()\n",
    "    if (success == True):\n",
    "        cv2.imwrite(IMG_DIR+\"/frame%d.jpg\" % count, image)     # save frame as JPEG file\n",
    "    count += 1"
   ]
  },
  {
   "cell_type": "markdown",
   "metadata": {},
   "source": [
    "### Output Image Frames (with Masks/BBoxes) -> Video\n",
    "Specify the image directory and output video name below, as well as which set (left/right_view) to use.\n",
    "This piece of code stitches together the output imnages with their respective masks to create a video. "
   ]
  },
  {
   "cell_type": "code",
   "execution_count": null,
   "metadata": {},
   "outputs": [],
   "source": [
    "OUT_IMG_DIR = \"../RESULTS_mask_rcnn/right_view/\""
   ]
  },
  {
   "cell_type": "code",
   "execution_count": null,
   "metadata": {},
   "outputs": [],
   "source": [
    "images = []\n",
    "names = []\n",
    "for filename in os.listdir(OUT_IMG_DIR):\n",
    "    try:\n",
    "        img = cv2.imread(os.path.join(OUT_IMG_DIR, filename))\n",
    "        if img is not None:\n",
    "            images.append(img)\n",
    "            names.append(int(filename[10:].split('.')[0]))\n",
    "    except:\n",
    "        print('Cant import ' + filename)  \n",
    "    \n",
    "zipped = sorted(zip(names, images))\n",
    "names, images = zip(*zipped)\n",
    "height,width,layers=images[0].shape\n",
    "fourcc = cv2.VideoWriter_fourcc(*'XVID')\n",
    "video=cv2.VideoWriter('./RESULTS_right_view.mp4',fourcc,29.97,(width,height))\n",
    "\n",
    "for i in range(len(images)):\n",
    "    video.write(images[i])\n",
    "    \n",
    "cv2.destroyAllWindows()\n",
    "video.release()"
   ]
  }
 ],
 "metadata": {
  "kernelspec": {
   "display_name": "Python 3",
   "language": "python",
   "name": "python3"
  },
  "language_info": {
   "codemirror_mode": {
    "name": "ipython",
    "version": 3
   },
   "file_extension": ".py",
   "mimetype": "text/x-python",
   "name": "python",
   "nbconvert_exporter": "python",
   "pygments_lexer": "ipython3",
   "version": "3.6.4"
  }
 },
 "nbformat": 4,
 "nbformat_minor": 2
}
