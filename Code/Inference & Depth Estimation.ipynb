{
 "cells": [
  {
   "cell_type": "code",
   "execution_count": 2,
   "metadata": {},
   "outputs": [
    {
     "name": "stderr",
     "output_type": "stream",
     "text": [
      "/opt/conda/lib/python3.6/site-packages/h5py/__init__.py:36: FutureWarning: Conversion of the second argument of issubdtype from `float` to `np.floating` is deprecated. In future, it will be treated as `np.float64 == np.dtype(float).type`.\n",
      "  from ._conv import register_converters as _register_converters\n",
      "Using TensorFlow backend.\n"
     ]
    }
   ],
   "source": [
    "import os\n",
    "import sys\n",
    "import random\n",
    "import math\n",
    "import numpy as np\n",
    "import skimage.io\n",
    "import argparse\n",
    "from argparse import Namespace\n",
    "import tensorflow as tf\n",
    "import pickle \n",
    "import keras\n",
    "import itertools\n",
    "import cv2\n",
    "import matplotlib\n",
    "import pylab\n",
    "import time\n",
    "import math\n",
    "import matplotlib.pyplot as plt\n",
    "plt.ioff()\n",
    "\n",
    "\n",
    "import torch\n",
    "import torch.nn as nn\n",
    "import torch.nn.parallel\n",
    "import torch.backends.cudnn as cudnn\n",
    "import torch.optim as optim\n",
    "import torch.utils.data\n",
    "from torch.autograd import Variable\n",
    "import torch.nn.functional as F\n",
    "import torchvision.transforms as transforms\n",
    "\n",
    "\n",
    "from skimage.measure import find_contours\n",
    "from matplotlib import patches,  lines\n",
    "from matplotlib.patches import Polygon"
   ]
  },
  {
   "cell_type": "markdown",
   "metadata": {},
   "source": [
    "# I. Running Inference with Faster-RCNN\n",
    "\n",
    "To run inference with the Faster-RCNN model defined in the Pedestrian-Detection-modified/ directory, you will need to run the bash script stored in this current directory, as follows:\n",
    "\n",
    "./run_faster_rcnn_inference.sh\n",
    "\n",
    "This will load the frozen inference graph stored in the model directory, take the input images stored in ../input_images/left_view/ and store the output images with bounding boxes in ../RESULTS_faster_rcnn/left_view. If you want to run the \"right_view\" images, simply change all arguments in the bash script from \"left_view\" to \"right_view\". "
   ]
  },
  {
   "cell_type": "markdown",
   "metadata": {},
   "source": [
    "# II. Running Inference with Mask-RCNN\n",
    "\n",
    "The following code is an adaptation of the demo code that comes with the Mask-RCNN directory, with some modifications to work on our input data, and a modification on the visualization script to save output images with overlaid masks. "
   ]
  },
  {
   "cell_type": "code",
   "execution_count": null,
   "metadata": {},
   "outputs": [],
   "source": [
    "# Root directory of the project\n",
    "ROOT_DIR = os.path.abspath(\"../Mask_RCNN_modified/\")\n",
    "\n",
    "# Import Mask RCNN\n",
    "sys.path.append(ROOT_DIR)  # To find local version of the library\n",
    "from mrcnn import utils\n",
    "import mrcnn.model as modellib\n",
    "from mrcnn import visualize\n",
    "\n",
    "# Import COCO config\n",
    "sys.path.append(os.path.join(ROOT_DIR, \"samples/coco/\"))  # To find local version\n",
    "import coco\n",
    "\n",
    "# Directory to save logs and trained model\n",
    "MODEL_DIR = os.path.join(ROOT_DIR, \"logs\")\n",
    "\n",
    "# Local path to trained weights file\n",
    "COCO_MODEL_PATH = os.path.join(ROOT_DIR, \"./mask_rcnn_coco.h5\")\n",
    "\n",
    "# Download COCO trained weights from Releases if needed\n",
    "if not os.path.exists(COCO_MODEL_PATH):\n",
    "    utils.download_trained_weights(COCO_MODEL_PATH)\n",
    "\n",
    "# Device to load the neural network on.\n",
    "DEVICE = \"/gpu:0\"  # /cpu:0 or /gpu:0\n",
    "\n",
    "# Inspect the model in training or inference modes\n",
    "# values: 'inference' or 'training'\n",
    "TEST_MODE = \"inference\""
   ]
  },
  {
   "cell_type": "markdown",
   "metadata": {},
   "source": [
    "### Configure/Create Inference Model and Load Trained Weights\n",
    "\n",
    "\n",
    "We'll be using a model trained on the MS-COCO dataset. The configurations of this model are in the ```CocoConfig``` class in ```coco.py```.\n",
    "\n",
    "For inferencing, modify the configurations a bit to fit the task. To do so, sub-class the ```CocoConfig``` class and override the attributes you need to change."
   ]
  },
  {
   "cell_type": "code",
   "execution_count": null,
   "metadata": {},
   "outputs": [],
   "source": [
    "class InferenceConfig(coco.CocoConfig):\n",
    "    # Set batch size to 1 since we'll be running inference on\n",
    "    # one image at a time. Batch size = GPU_COUNT * IMAGES_PER_GPU\n",
    "    GPU_COUNT = 1\n",
    "    IMAGES_PER_GPU = 1\n",
    "    IMAGE_MIN_DIM = 720\n",
    "    IMAGE_MAX_DIM = 1280\n",
    "\n",
    "config = InferenceConfig()\n",
    "config.display()\n",
    "\n",
    "with tf.device(DEVICE):\n",
    "    # Create model object in inference mode.\n",
    "    model = modellib.MaskRCNN(mode=\"inference\", model_dir=MODEL_DIR, config=config)\n",
    "\n",
    "    # Load weights trained on MS-COCO\n",
    "    model.load_weights(COCO_MODEL_PATH, by_name=True)"
   ]
  },
  {
   "cell_type": "markdown",
   "metadata": {},
   "source": [
    "### Class Names\n",
    "\n",
    "The model classifies objects and returns class IDs, which are integer value that identify each class. Some datasets assign integer values to their classes and some don't. For example, in the MS-COCO dataset, the 'person' class is 1 and 'teddy bear' is 88. The IDs are often sequential, but not always. The COCO dataset, for example, has classes associated with class IDs 70 and 72, but not 71.\n",
    "\n",
    "To improve consistency, and to support training on data from multiple sources at the same time, our ```Dataset``` class assigns it's own sequential integer IDs to each class. For example, if you load the COCO dataset using our ```Dataset``` class, the 'person' class would get class ID = 1 (just like COCO) and the 'teddy bear' class is 78 (different from COCO). Keep that in mind when mapping class IDs to class names.\n",
    "\n",
    "We include the hard-coded classnames corresponding to their class IDs below so you don't have to download the Coco dataset to run inference. "
   ]
  },
  {
   "cell_type": "code",
   "execution_count": null,
   "metadata": {},
   "outputs": [],
   "source": [
    "# COCO Class names\n",
    "# Index of the class in the list is its ID. For example, to get ID of\n",
    "# the teddy bear class, use: class_names.index('teddy bear')\n",
    "class_names = ['BG', 'person', 'bicycle', 'car', 'motorcycle', 'airplane',\n",
    "               'bus', 'train', 'truck', 'boat', 'traffic light',\n",
    "               'fire hydrant', 'stop sign', 'parking meter', 'bench', 'bird',\n",
    "               'cat', 'dog', 'horse', 'sheep', 'cow', 'elephant', 'bear',\n",
    "               'zebra', 'giraffe', 'backpack', 'umbrella', 'handbag', 'tie',\n",
    "               'suitcase', 'frisbee', 'skis', 'snowboard', 'sports ball',\n",
    "               'kite', 'baseball bat', 'baseball glove', 'skateboard',\n",
    "               'surfboard', 'tennis racket', 'bottle', 'wine glass', 'cup',\n",
    "               'fork', 'knife', 'spoon', 'bowl', 'banana', 'apple',\n",
    "               'sandwich', 'orange', 'broccoli', 'carrot', 'hot dog', 'pizza',\n",
    "               'donut', 'cake', 'chair', 'couch', 'potted plant', 'bed',\n",
    "               'dining table', 'toilet', 'tv', 'laptop', 'mouse', 'remote',\n",
    "               'keyboard', 'cell phone', 'microwave', 'oven', 'toaster',\n",
    "               'sink', 'refrigerator', 'book', 'clock', 'vase', 'scissors',\n",
    "               'teddy bear', 'hair drier', 'toothbrush']"
   ]
  },
  {
   "cell_type": "markdown",
   "metadata": {},
   "source": [
    "### Modified Visualization Code To Save Images"
   ]
  },
  {
   "cell_type": "code",
   "execution_count": null,
   "metadata": {},
   "outputs": [],
   "source": [
    "def display_imgs(filename, image, boxes, masks, class_ids, class_names,\n",
    "                 scores=None, title=\"\",\n",
    "                 figsize=(14, 14), ax=None,\n",
    "                 show_mask=True, show_bbox=True,\n",
    "                 colors=None, captions=None, show=False):\n",
    "    \"\"\"\n",
    "    boxes: [num_instance, (y1, x1, y2, x2, class_id)] in image coordinates.\n",
    "    masks: [height, width, num_instances]\n",
    "    class_ids: [num_instances]\n",
    "    class_names: list of class names of the dataset\n",
    "    scores: (optional) confidence scores for each box\n",
    "    title: (optional) Figure title\n",
    "    show_mask, show_bbox: To show masks and bounding boxes or not\n",
    "    figsize: (optional) the size of the image\n",
    "    colors: (optional) An array or colors to use with each object\n",
    "    captions: (optional) A list of strings to use as captions for each object\n",
    "    \"\"\"\n",
    "    # Number of instances\n",
    "    # Turn interactive plotting off\n",
    "    N = boxes.shape[0]\n",
    "    if not N:\n",
    "        print(\"\\n*** No instances to display *** \\n\")\n",
    "    else:\n",
    "        assert boxes.shape[0] == masks.shape[-1] == class_ids.shape[0]\n",
    "\n",
    "    # If no axis is passed, create one and automatically call show()\n",
    "    auto_show = False\n",
    "    if not ax:\n",
    "        fig, ax = plt.subplots(1, figsize=figsize)\n",
    "\n",
    "    plt.gca().set_axis_off()\n",
    "    plt.subplots_adjust(top = 1, bottom = 0, right = 1, left = 0, \n",
    "            hspace = 0, wspace = 0)\n",
    "    plt.margins(0,0)\n",
    "    plt.gca().xaxis.set_major_locator(plt.NullLocator())\n",
    "    plt.gca().yaxis.set_major_locator(plt.NullLocator())\n",
    "    # Generate random colors\n",
    "    colors = colors or visualize.random_colors(N)\n",
    "\n",
    "    # Show area outside image boundaries.\n",
    "    height, width = image.shape[:2]\n",
    "    ax.set_ylim(height + 10, -10)\n",
    "    ax.set_xlim(-10, width + 10)\n",
    "    ax.axis('off')\n",
    "    ax.set_title(title)\n",
    "\n",
    "    masked_image = image.astype(np.uint32).copy()\n",
    "    for i in range(N):\n",
    "        if (class_ids[i] == 1):\n",
    "            color = colors[i]\n",
    "\n",
    "            # Bounding box\n",
    "            if not np.any(boxes[i]):\n",
    "                # Skip this instance. Has no bbox. Likely lost in image cropping.\n",
    "                continue\n",
    "            y1, x1, y2, x2 = boxes[i]\n",
    "            if show_bbox:\n",
    "                p = patches.Rectangle((x1, y1), x2 - x1, y2 - y1, linewidth=2,\n",
    "                                    alpha=0.7, linestyle=\"dashed\",\n",
    "                                    edgecolor=color, facecolor='none')\n",
    "                ax.add_patch(p)\n",
    "\n",
    "            # Label\n",
    "            if not captions:\n",
    "                class_id = class_ids[i]\n",
    "                score = scores[i] if scores is not None else None\n",
    "                label = class_names[class_id]\n",
    "                x = random.randint(x1, (x1 + x2) // 2)\n",
    "                caption = \"{} {:.3f}\".format(label, score) if score else label\n",
    "            else:\n",
    "                caption = captions[i]\n",
    "            ax.text(x1, y1 + 8, caption,\n",
    "                    color='w', size=11, backgroundcolor=\"none\")\n",
    "\n",
    "            # Mask\n",
    "            mask = masks[:, :, i]\n",
    "            if show_mask:\n",
    "                masked_image = visualize.apply_mask(masked_image, mask, color)\n",
    "\n",
    "            # Mask Polygon\n",
    "            # Pad to ensure proper polygons for masks that touch image edges.\n",
    "            padded_mask = np.zeros(\n",
    "                (mask.shape[0] + 2, mask.shape[1] + 2), dtype=np.uint8)\n",
    "            padded_mask[1:-1, 1:-1] = mask\n",
    "            contours = find_contours(padded_mask, 0.5)\n",
    "            for verts in contours:\n",
    "                # Subtract the padding and flip (y, x) to (x, y)\n",
    "                verts = np.fliplr(verts) - 1\n",
    "                p = Polygon(verts, facecolor=\"none\", edgecolor=color)\n",
    "                ax.add_patch(p)\n",
    "    ax.imshow(masked_image.astype(np.uint8))\n",
    "    if show: plt.show()\n",
    "    fig.savefig(filename, bbox_inches = 'tight', pad_inches = 0)\n",
    "    plt.close(\"all\")"
   ]
  },
  {
   "cell_type": "markdown",
   "metadata": {},
   "source": [
    "### Load both sets of images (left_view, right_view) to perform inference"
   ]
  },
  {
   "cell_type": "code",
   "execution_count": null,
   "metadata": {
    "scrolled": false
   },
   "outputs": [],
   "source": [
    "# Input and output directories for both sets of images\n",
    "pickles = ['left_view.pkl','right_view.pkl']\n",
    "IMAGE_DIRS = ['../input_images/left_view/', '../input_images/right_view/']\n",
    "SAVE_DIRS = ['../RESULTS_mask_rcnn/left_view/', '../RESULTS_mask_rcnn/right_view/']\n",
    "DEPTH_SAVE_DIRS = ['../RESULTS_mask_rcnn_depth/left_view/', '../RESULTS_mask_rcnn_depth/right_view/']\n",
    "\n",
    "images = [[],[]] \n",
    "names = [[],[]]\n",
    "for d in range(len(IMAGE_DIRS)):\n",
    "    images[d] = []\n",
    "    names[d] = []\n",
    "    ord_names = []\n",
    "\n",
    "    for filename in os.listdir(IMAGE_DIRS[d]):\n",
    "        try:\n",
    "            img = skimage.io.imread(os.path.join(IMAGE_DIRS[d], filename))\n",
    "            if img is not None:\n",
    "                images[d].append(img)\n",
    "                names[d].append(filename)\n",
    "                ord_names.append(int(filename[5:].split('.')[0]))\n",
    "        except:\n",
    "            print('Cant import ' + filename)    \n",
    "    \n",
    "    # order the images by name to know in order which frame they belong\n",
    "    zipped = sorted(zip(ord_names, names[d], images[d]))\n",
    "    ord_names, names[d], images[d] = zip(*zipped)"
   ]
  },
  {
   "cell_type": "markdown",
   "metadata": {},
   "source": [
    "### Perform Inference with Mask-RCNN and visualize/save results"
   ]
  },
  {
   "cell_type": "markdown",
   "metadata": {},
   "source": [
    "We perform inference on the left/right view input images from the loaded Mask-RCNN model, and visualize one of the images here. We run the display_save_imgs function (written above) to save the images with pedestrian bounding boxes and drawn masks in the specified SAVE_DIRS, if they don't already exist in that folder."
   ]
  },
  {
   "cell_type": "code",
   "execution_count": null,
   "metadata": {},
   "outputs": [],
   "source": [
    "results = [[],[]]\n",
    "save = False\n",
    "for d in range(len(IMAGE_DIRS)):\n",
    "    imgs = images[d]\n",
    "    nam = names[d]\n",
    "    for i in range(len(imgs)):\n",
    "        # Perform inference (in order)\n",
    "        with tf.device(DEVICE): \n",
    "            results[d].append(model.detect([imgs[i]]));\n",
    "        r = results[d][i][0]\n",
    "        if save: \n",
    "            if (i == 1):\n",
    "                print (\"Visualizing results from inference for image: \", nam[i])\n",
    "                display_imgs(SAVE_DIRS[d]+\"/proc_\"+nam[i], imgs[i], r['rois'], r['masks'], r['class_ids'], class_names, r['scores'], show=True)\n",
    "            else:  \n",
    "                display_imgs(SAVE_DIRS[d]+\"/proc_\"+nam[i], imgs[i], r['rois'], r['masks'], r['class_ids'], class_names, r['scores'])\n"
   ]
  },
  {
   "cell_type": "markdown",
   "metadata": {},
   "source": [
    "# III. Using PSMNet to estimate pedestrian depth\n",
    "In the following section, we will estimate pedestrian depth by running inference on a convolutional neural network developed in March 2018 by Chang and Chen. Pyramid Stereo Matching Networks (PSMNet) uses spatial pyramid pooling to aggregate context in different scales and locations to form a cost volume, and 3D CNNs to regularize this volume using stacked hourglass networks."
   ]
  },
  {
   "cell_type": "code",
   "execution_count": 3,
   "metadata": {},
   "outputs": [
    {
     "name": "stdout",
     "output_type": "stream",
     "text": [
      "True\n"
     ]
    }
   ],
   "source": [
    "ROOT_DIR = os.path.abspath(\"../PSMNet-modified/\")\n",
    "sys.path.append(ROOT_DIR)\n",
    "\n",
    "from stackhourglass import PSMNet\n",
    "print (torch.cuda.is_available())"
   ]
  },
  {
   "cell_type": "code",
   "execution_count": 4,
   "metadata": {},
   "outputs": [],
   "source": [
    "__imagenet_stats = {'mean': [0.485, 0.456, 0.406],\n",
    "                   'std': [0.229, 0.224, 0.225]}\n",
    "\n",
    "def scale_crop(input_size, scale_size=None, normalize=__imagenet_stats):\n",
    "    t_list = [\n",
    "        transforms.ToTensor(),\n",
    "        transforms.Normalize(**normalize),\n",
    "    ]\n",
    "    return transforms.Compose(t_list)\n",
    "\n",
    "def get_transform(name='imagenet', input_size=None,\n",
    "                  scale_size=None, normalize=None):\n",
    "    normalize = __imagenet_stats\n",
    "    input_size = 256\n",
    "    return scale_crop(input_size=input_size, scale_size=scale_size, normalize=normalize)\n",
    "\n",
    "def test(imgL,imgR):\n",
    "    print (imgL.shape, imgR.shape)\n",
    "    model = PSMNet(192)\n",
    "    model = nn.DataParallel(model, device_ids=[0])\n",
    "    model.cuda()\n",
    "    state_dict = torch.load('../PSMNet-modified/pretrained_model_KITTI2012.tar')\n",
    "    model.load_state_dict(state_dict['state_dict'])\n",
    "    model.eval()\n",
    "\n",
    "    imgL = imgL[155:155+384,:,:]\n",
    "    imgR = imgR[155:155+384,:,:]\n",
    "\n",
    "    processed = get_transform()\n",
    "\n",
    "    imgL = processed(imgL).numpy()\n",
    "    imgR = processed(imgR).numpy()\n",
    "\n",
    "    imgL = np.reshape(imgL,[1,3,imgL.shape[1],imgL.shape[2]])\n",
    "    imgR = np.reshape(imgR,[1,3,imgR.shape[1],imgR.shape[2]])\n",
    "    print(imgL.shape)\n",
    "\n",
    "    # pad to (384, 1248)\n",
    "    top_pad = 384-imgL.shape[2]\n",
    "    left_pad = 1248-imgL.shape[3]\n",
    "    imgL = np.lib.pad(imgL,((0,0),(0,0),(top_pad,0),(0,left_pad)),mode='constant',constant_values=0)\n",
    "    imgR = np.lib.pad(imgR,((0,0),(0,0),(top_pad,0),(0,left_pad)),mode='constant',constant_values=0)\n",
    "\n",
    "    imgL = torch.FloatTensor(imgL).cuda()\n",
    "    imgR = torch.FloatTensor(imgR).cuda()\n",
    "\n",
    "    imgL, imgR = Variable(imgL), Variable(imgR)\n",
    "    print (imgL.size(), imgR.size())\n",
    "\n",
    "    print (\"evaluating imgs on model\")\n",
    "    with torch.no_grad():\n",
    "        output = model(imgL,imgR)\n",
    "    print (\"??????????\")\n",
    "    output = torch.squeeze(output)\n",
    "    pred_disp = output.data.cpu().numpy()\n",
    "\n",
    "    return pred_disp"
   ]
  },
  {
   "cell_type": "markdown",
   "metadata": {},
   "source": [
    "### For the sake of our demo, we display the depth map of the images shown in the previous sections with their bounding boxes from both Mask-RCNN and Faster-RCNN."
   ]
  },
  {
   "cell_type": "code",
   "execution_count": null,
   "metadata": {},
   "outputs": [
    {
     "name": "stdout",
     "output_type": "stream",
     "text": [
      "Reading in computed depth maps\n",
      "(696, 946, 3) (696, 946, 3)\n",
      "(1, 3, 384, 946)\n",
      "torch.Size([1, 3, 384, 1248]) torch.Size([1, 3, 384, 1248])\n",
      "evaluating imgs on model\n"
     ]
    }
   ],
   "source": [
    "#load images\n",
    "DEPTH_DIR = '../input_images/rectified/'\n",
    "print (\"Reading in computed depth maps\")\n",
    "\n",
    "image_l = skimage.io.imread(os.path.join(DEPTH_DIR, 'left90.png'))\n",
    "image_r = skimage.io.imread(os.path.join(DEPTH_DIR, 'right90.png'))\n",
    "\n",
    "pred_disp = test(image_l,image_r)\n",
    "left_pad  = 1248-946\n",
    "img = pred_disp[0:,:-left_pad]\n",
    "img = img*(255/np.max(img))\n",
    "outname = outname_prefix + str(count) + '.png'\n",
    "cv2.imwrite(outname,img)"
   ]
  },
  {
   "cell_type": "code",
   "execution_count": null,
   "metadata": {},
   "outputs": [],
   "source": []
  }
 ],
 "metadata": {
  "kernelspec": {
   "display_name": "Python 3",
   "language": "python",
   "name": "python3"
  },
  "language_info": {
   "codemirror_mode": {
    "name": "ipython",
    "version": 3
   },
   "file_extension": ".py",
   "mimetype": "text/x-python",
   "name": "python",
   "nbconvert_exporter": "python",
   "pygments_lexer": "ipython3",
   "version": "3.6.4"
  }
 },
 "nbformat": 4,
 "nbformat_minor": 2
}
